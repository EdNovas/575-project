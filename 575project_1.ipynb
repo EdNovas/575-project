{
  "nbformat": 4,
  "nbformat_minor": 0,
  "metadata": {
    "colab": {
      "provenance": []
    },
    "kernelspec": {
      "name": "python3",
      "display_name": "Python 3"
    },
    "language_info": {
      "name": "python"
    }
  },
  "cells": [
    {
      "cell_type": "code",
      "source": [
        "# Install the shazamio library for audio recognition\n",
        "!pip install shazamio nest_asyncio"
      ],
      "metadata": {
        "colab": {
          "base_uri": "https://localhost:8080/"
        },
        "id": "yd4xOq_XFttP",
        "outputId": "c33bdf2f-15e1-4f6b-91fc-cb68970aedea"
      },
      "execution_count": null,
      "outputs": [
        {
          "output_type": "stream",
          "name": "stdout",
          "text": [
            "Requirement already satisfied: shazamio in /usr/local/lib/python3.11/dist-packages (0.8.0)\n",
            "Requirement already satisfied: nest_asyncio in /usr/local/lib/python3.11/dist-packages (1.6.0)\n",
            "Requirement already satisfied: aiofiles==23.2.1 in /usr/local/lib/python3.11/dist-packages (from shazamio) (23.2.1)\n",
            "Requirement already satisfied: aiohttp<4.0.0,>=3.8.3 in /usr/local/lib/python3.11/dist-packages (from shazamio) (3.11.13)\n",
            "Requirement already satisfied: aiohttp-retry<3.0.0,>=2.8.3 in /usr/local/lib/python3.11/dist-packages (from shazamio) (2.9.1)\n",
            "Requirement already satisfied: anyio==4.3.0 in /usr/local/lib/python3.11/dist-packages (from shazamio) (4.3.0)\n",
            "Requirement already satisfied: dataclass-factory==2.16 in /usr/local/lib/python3.11/dist-packages (from shazamio) (2.16)\n",
            "Requirement already satisfied: numpy==2.2.2 in /usr/local/lib/python3.11/dist-packages (from shazamio) (2.2.2)\n",
            "Requirement already satisfied: pydantic==2.9.2 in /usr/local/lib/python3.11/dist-packages (from shazamio) (2.9.2)\n",
            "Requirement already satisfied: pydub<0.26.0,>=0.25.1 in /usr/local/lib/python3.11/dist-packages (from shazamio) (0.25.1)\n",
            "Requirement already satisfied: shazamio-core==1.1.2 in /usr/local/lib/python3.11/dist-packages (from shazamio) (1.1.2)\n",
            "Requirement already satisfied: idna>=2.8 in /usr/local/lib/python3.11/dist-packages (from anyio==4.3.0->shazamio) (3.10)\n",
            "Requirement already satisfied: sniffio>=1.1 in /usr/local/lib/python3.11/dist-packages (from anyio==4.3.0->shazamio) (1.3.1)\n",
            "Requirement already satisfied: annotated-types>=0.6.0 in /usr/local/lib/python3.11/dist-packages (from pydantic==2.9.2->shazamio) (0.7.0)\n",
            "Requirement already satisfied: pydantic-core==2.23.4 in /usr/local/lib/python3.11/dist-packages (from pydantic==2.9.2->shazamio) (2.23.4)\n",
            "Requirement already satisfied: typing-extensions>=4.6.1 in /usr/local/lib/python3.11/dist-packages (from pydantic==2.9.2->shazamio) (4.12.2)\n",
            "Requirement already satisfied: aiohappyeyeballs>=2.3.0 in /usr/local/lib/python3.11/dist-packages (from aiohttp<4.0.0,>=3.8.3->shazamio) (2.6.1)\n",
            "Requirement already satisfied: aiosignal>=1.1.2 in /usr/local/lib/python3.11/dist-packages (from aiohttp<4.0.0,>=3.8.3->shazamio) (1.3.2)\n",
            "Requirement already satisfied: attrs>=17.3.0 in /usr/local/lib/python3.11/dist-packages (from aiohttp<4.0.0,>=3.8.3->shazamio) (25.2.0)\n",
            "Requirement already satisfied: frozenlist>=1.1.1 in /usr/local/lib/python3.11/dist-packages (from aiohttp<4.0.0,>=3.8.3->shazamio) (1.5.0)\n",
            "Requirement already satisfied: multidict<7.0,>=4.5 in /usr/local/lib/python3.11/dist-packages (from aiohttp<4.0.0,>=3.8.3->shazamio) (6.1.0)\n",
            "Requirement already satisfied: propcache>=0.2.0 in /usr/local/lib/python3.11/dist-packages (from aiohttp<4.0.0,>=3.8.3->shazamio) (0.3.0)\n",
            "Requirement already satisfied: yarl<2.0,>=1.17.0 in /usr/local/lib/python3.11/dist-packages (from aiohttp<4.0.0,>=3.8.3->shazamio) (1.18.3)\n"
          ]
        }
      ]
    },
    {
      "cell_type": "code",
      "execution_count": null,
      "metadata": {
        "colab": {
          "base_uri": "https://localhost:8080/",
          "height": 179
        },
        "id": "HxF54k2AC9IR",
        "outputId": "7eb84096-34bc-41e5-fb25-7df9d2653ce8"
      },
      "outputs": [
        {
          "output_type": "display_data",
          "data": {
            "text/plain": [
              "<IPython.core.display.HTML object>"
            ],
            "text/html": [
              "\n",
              "     <input type=\"file\" id=\"files-10319c54-5faf-4203-b6e1-fe3d51628562\" name=\"files[]\" multiple disabled\n",
              "        style=\"border:none\" />\n",
              "     <output id=\"result-10319c54-5faf-4203-b6e1-fe3d51628562\">\n",
              "      Upload widget is only available when the cell has been executed in the\n",
              "      current browser session. Please rerun this cell to enable.\n",
              "      </output>\n",
              "      <script>// Copyright 2017 Google LLC\n",
              "//\n",
              "// Licensed under the Apache License, Version 2.0 (the \"License\");\n",
              "// you may not use this file except in compliance with the License.\n",
              "// You may obtain a copy of the License at\n",
              "//\n",
              "//      http://www.apache.org/licenses/LICENSE-2.0\n",
              "//\n",
              "// Unless required by applicable law or agreed to in writing, software\n",
              "// distributed under the License is distributed on an \"AS IS\" BASIS,\n",
              "// WITHOUT WARRANTIES OR CONDITIONS OF ANY KIND, either express or implied.\n",
              "// See the License for the specific language governing permissions and\n",
              "// limitations under the License.\n",
              "\n",
              "/**\n",
              " * @fileoverview Helpers for google.colab Python module.\n",
              " */\n",
              "(function(scope) {\n",
              "function span(text, styleAttributes = {}) {\n",
              "  const element = document.createElement('span');\n",
              "  element.textContent = text;\n",
              "  for (const key of Object.keys(styleAttributes)) {\n",
              "    element.style[key] = styleAttributes[key];\n",
              "  }\n",
              "  return element;\n",
              "}\n",
              "\n",
              "// Max number of bytes which will be uploaded at a time.\n",
              "const MAX_PAYLOAD_SIZE = 100 * 1024;\n",
              "\n",
              "function _uploadFiles(inputId, outputId) {\n",
              "  const steps = uploadFilesStep(inputId, outputId);\n",
              "  const outputElement = document.getElementById(outputId);\n",
              "  // Cache steps on the outputElement to make it available for the next call\n",
              "  // to uploadFilesContinue from Python.\n",
              "  outputElement.steps = steps;\n",
              "\n",
              "  return _uploadFilesContinue(outputId);\n",
              "}\n",
              "\n",
              "// This is roughly an async generator (not supported in the browser yet),\n",
              "// where there are multiple asynchronous steps and the Python side is going\n",
              "// to poll for completion of each step.\n",
              "// This uses a Promise to block the python side on completion of each step,\n",
              "// then passes the result of the previous step as the input to the next step.\n",
              "function _uploadFilesContinue(outputId) {\n",
              "  const outputElement = document.getElementById(outputId);\n",
              "  const steps = outputElement.steps;\n",
              "\n",
              "  const next = steps.next(outputElement.lastPromiseValue);\n",
              "  return Promise.resolve(next.value.promise).then((value) => {\n",
              "    // Cache the last promise value to make it available to the next\n",
              "    // step of the generator.\n",
              "    outputElement.lastPromiseValue = value;\n",
              "    return next.value.response;\n",
              "  });\n",
              "}\n",
              "\n",
              "/**\n",
              " * Generator function which is called between each async step of the upload\n",
              " * process.\n",
              " * @param {string} inputId Element ID of the input file picker element.\n",
              " * @param {string} outputId Element ID of the output display.\n",
              " * @return {!Iterable<!Object>} Iterable of next steps.\n",
              " */\n",
              "function* uploadFilesStep(inputId, outputId) {\n",
              "  const inputElement = document.getElementById(inputId);\n",
              "  inputElement.disabled = false;\n",
              "\n",
              "  const outputElement = document.getElementById(outputId);\n",
              "  outputElement.innerHTML = '';\n",
              "\n",
              "  const pickedPromise = new Promise((resolve) => {\n",
              "    inputElement.addEventListener('change', (e) => {\n",
              "      resolve(e.target.files);\n",
              "    });\n",
              "  });\n",
              "\n",
              "  const cancel = document.createElement('button');\n",
              "  inputElement.parentElement.appendChild(cancel);\n",
              "  cancel.textContent = 'Cancel upload';\n",
              "  const cancelPromise = new Promise((resolve) => {\n",
              "    cancel.onclick = () => {\n",
              "      resolve(null);\n",
              "    };\n",
              "  });\n",
              "\n",
              "  // Wait for the user to pick the files.\n",
              "  const files = yield {\n",
              "    promise: Promise.race([pickedPromise, cancelPromise]),\n",
              "    response: {\n",
              "      action: 'starting',\n",
              "    }\n",
              "  };\n",
              "\n",
              "  cancel.remove();\n",
              "\n",
              "  // Disable the input element since further picks are not allowed.\n",
              "  inputElement.disabled = true;\n",
              "\n",
              "  if (!files) {\n",
              "    return {\n",
              "      response: {\n",
              "        action: 'complete',\n",
              "      }\n",
              "    };\n",
              "  }\n",
              "\n",
              "  for (const file of files) {\n",
              "    const li = document.createElement('li');\n",
              "    li.append(span(file.name, {fontWeight: 'bold'}));\n",
              "    li.append(span(\n",
              "        `(${file.type || 'n/a'}) - ${file.size} bytes, ` +\n",
              "        `last modified: ${\n",
              "            file.lastModifiedDate ? file.lastModifiedDate.toLocaleDateString() :\n",
              "                                    'n/a'} - `));\n",
              "    const percent = span('0% done');\n",
              "    li.appendChild(percent);\n",
              "\n",
              "    outputElement.appendChild(li);\n",
              "\n",
              "    const fileDataPromise = new Promise((resolve) => {\n",
              "      const reader = new FileReader();\n",
              "      reader.onload = (e) => {\n",
              "        resolve(e.target.result);\n",
              "      };\n",
              "      reader.readAsArrayBuffer(file);\n",
              "    });\n",
              "    // Wait for the data to be ready.\n",
              "    let fileData = yield {\n",
              "      promise: fileDataPromise,\n",
              "      response: {\n",
              "        action: 'continue',\n",
              "      }\n",
              "    };\n",
              "\n",
              "    // Use a chunked sending to avoid message size limits. See b/62115660.\n",
              "    let position = 0;\n",
              "    do {\n",
              "      const length = Math.min(fileData.byteLength - position, MAX_PAYLOAD_SIZE);\n",
              "      const chunk = new Uint8Array(fileData, position, length);\n",
              "      position += length;\n",
              "\n",
              "      const base64 = btoa(String.fromCharCode.apply(null, chunk));\n",
              "      yield {\n",
              "        response: {\n",
              "          action: 'append',\n",
              "          file: file.name,\n",
              "          data: base64,\n",
              "        },\n",
              "      };\n",
              "\n",
              "      let percentDone = fileData.byteLength === 0 ?\n",
              "          100 :\n",
              "          Math.round((position / fileData.byteLength) * 100);\n",
              "      percent.textContent = `${percentDone}% done`;\n",
              "\n",
              "    } while (position < fileData.byteLength);\n",
              "  }\n",
              "\n",
              "  // All done.\n",
              "  yield {\n",
              "    response: {\n",
              "      action: 'complete',\n",
              "    }\n",
              "  };\n",
              "}\n",
              "\n",
              "scope.google = scope.google || {};\n",
              "scope.google.colab = scope.google.colab || {};\n",
              "scope.google.colab._files = {\n",
              "  _uploadFiles,\n",
              "  _uploadFilesContinue,\n",
              "};\n",
              "})(self);\n",
              "</script> "
            ]
          },
          "metadata": {}
        },
        {
          "output_type": "stream",
          "name": "stdout",
          "text": [
            "Saving Imagine Dragons - Demons (Lyrics).mp3 to Imagine Dragons - Demons (Lyrics) (1).mp3\n",
            "Uploaded file: Imagine Dragons - Demons (Lyrics) (1).mp3\n"
          ]
        },
        {
          "output_type": "stream",
          "name": "stderr",
          "text": [
            "<ipython-input-4-25eab418c9e5>:18: DeprecationWarning: Call to deprecated function recognize_song. Use recognize method instead of recognize_song\n",
            "  result = await shazam.recognize_song(song_bytes)\n"
          ]
        },
        {
          "output_type": "stream",
          "name": "stdout",
          "text": [
            "Song Identification Result:\n",
            "{'matches': [{'id': '200649232', 'offset': 80.869203125, 'timeskew': 3.3020973e-05, 'frequencyskew': 0.0}, {'id': '482078586', 'offset': 102.7065625, 'timeskew': -9.936094e-05, 'frequencyskew': -0.00021475554}], 'location': {'accuracy': 0.01}, 'timestamp': 1742175564856, 'timezone': 'Europe/Moscow', 'track': {'layout': '5', 'type': 'MUSIC', 'key': '78832419', 'title': 'Demons', 'subtitle': 'Imagine Dragons', 'images': {'background': 'https://is1-ssl.mzstatic.com/image/thumb/AMCArtistImages221/v4/f2/7b/29/f27b29c0-49e6-4b40-e079-9a2163030444/0cd8f23b-d974-42e4-8fe7-1aaa533baf13_ami-identity-0dee3e31f20984eeb377fa8009444095-2024-04-03T19-26-12.960Z_cropped.png/800x800cc.jpg', 'coverart': 'https://is1-ssl.mzstatic.com/image/thumb/Music122/v4/c1/1a/fa/c11afaa1-26fc-9829-a6cf-9d1dd228ec06/12UMGIM46901.rgb.jpg/400x400cc.jpg', 'coverarthq': 'https://is1-ssl.mzstatic.com/image/thumb/Music122/v4/c1/1a/fa/c11afaa1-26fc-9829-a6cf-9d1dd228ec06/12UMGIM46901.rgb.jpg/400x400cc.jpg', 'joecolor': 'b:1d1932p:e0d7e1s:d59b99t:b9b1beq:b08185'}, 'share': {'subject': 'Demons - Imagine Dragons', 'text': 'Demons by Imagine Dragons', 'href': 'https://www.shazam.com/track/78832419/demons', 'image': 'https://is1-ssl.mzstatic.com/image/thumb/Music122/v4/c1/1a/fa/c11afaa1-26fc-9829-a6cf-9d1dd228ec06/12UMGIM46901.rgb.jpg/400x400cc.jpg', 'twitter': 'I used @Shazam to discover Demons by Imagine Dragons.', 'html': 'https://www.shazam.com/snippets/email-share/78832419?lang=en-US&country=GB', 'avatar': 'https://is1-ssl.mzstatic.com/image/thumb/AMCArtistImages221/v4/f2/7b/29/f27b29c0-49e6-4b40-e079-9a2163030444/0cd8f23b-d974-42e4-8fe7-1aaa533baf13_ami-identity-0dee3e31f20984eeb377fa8009444095-2024-04-03T19-26-12.960Z_cropped.png/800x800cc.jpg', 'snapchat': 'https://www.shazam.com/partner/sc/track/78832419'}, 'hub': {'type': 'APPLEMUSIC', 'image': 'https://images.shazam.com/static/icons/hub/web/v5/applemusic.png', 'actions': [{'name': 'apple', 'type': 'applemusicplay', 'id': '1440830132'}, {'name': 'apple', 'type': 'uri', 'uri': 'https://audio-ssl.itunes.apple.com/itunes-assets/AudioPreview122/v4/ed/ac/f5/edacf5d9-7c1e-fe2a-4ec8-c2c4ecf14691/mzaf_16280899224189400661.plus.aac.ep.m4a'}], 'options': [{'caption': 'OPEN IN', 'actions': [{'name': 'hub:applemusic:deeplink', 'type': 'applemusicopen', 'uri': 'https://music.apple.com/gb/album/demons/1440829989?i=1440830132&mttnagencyid=s2n&mttnsiteid=125115&mttn3pid=Apple-Shazam&mttnsub1=Shazam_web&mttnsub2=5348615A-616D-3235-3830-44754D6D5973&itscg=30201&app=music&itsct=Shazam_web'}, {'name': 'hub:applemusic:deeplink', 'type': 'uri', 'uri': 'https://music.apple.com/gb/album/demons/1440829989?i=1440830132&mttnagencyid=s2n&mttnsiteid=125115&mttn3pid=Apple-Shazam&mttnsub1=Shazam_web&mttnsub2=5348615A-616D-3235-3830-44754D6D5973&itscg=30201&app=music&itsct=Shazam_web'}], 'beacondata': {'type': 'open', 'providername': 'applemusic'}, 'image': 'https://images.shazam.com/static/icons/hub/web/v5/overflow-open-option.png', 'type': 'open', 'listcaption': 'Open in Apple Music', 'overflowimage': 'https://images.shazam.com/static/icons/hub/web/v5/applemusic-overflow.png', 'colouroverflowimage': False, 'providername': 'applemusic'}], 'explicit': False, 'displayname': 'APPLE MUSIC'}, 'sections': [{'type': 'SONG', 'metapages': [{'image': 'https://is1-ssl.mzstatic.com/image/thumb/AMCArtistImages221/v4/f2/7b/29/f27b29c0-49e6-4b40-e079-9a2163030444/0cd8f23b-d974-42e4-8fe7-1aaa533baf13_ami-identity-0dee3e31f20984eeb377fa8009444095-2024-04-03T19-26-12.960Z_cropped.png/800x800cc.jpg', 'caption': 'Imagine Dragons'}, {'image': 'https://is1-ssl.mzstatic.com/image/thumb/Music122/v4/c1/1a/fa/c11afaa1-26fc-9829-a6cf-9d1dd228ec06/12UMGIM46901.rgb.jpg/400x400cc.jpg', 'caption': 'Demons'}], 'tabname': 'Song', 'metadata': [{'title': 'Album', 'text': 'Night Visions'}, {'title': 'Label', 'text': 'Kid Ina Korner / Interscope'}, {'title': 'Released', 'text': '2012'}]}, {'type': 'RELATED', 'url': 'https://cdn.shazam.com/shazam/v3/en-US/GB/web/-/tracks/track-similarities-id-78832419?startFrom=0&pageSize=20&connected=', 'tabname': 'Related'}], 'url': 'https://www.shazam.com/track/78832419/demons', 'artists': [{'alias': 'imagine-dragons', 'id': '42', 'adamid': '358714030'}], 'alias': 'demons', 'isrc': 'USUM71201071', 'genres': {'primary': 'Alternative'}, 'urlparams': {'{tracktitle}': 'Demons', '{trackartist}': 'Imagine+Dragons'}, 'highlightsurls': {}, 'relatedtracksurl': 'https://cdn.shazam.com/shazam/v3/en-US/GB/web/-/tracks/track-similarities-id-78832419?startFrom=0&pageSize=20&connected=', 'albumadamid': '1440829989', 'trackadamid': '1440830132', 'releasedate': '04-09-2012'}, 'tagid': '10FA04F6-B253-4741-822E-E0CF3F6883EB'}\n"
          ]
        }
      ],
      "source": [
        "from google.colab import files\n",
        "uploaded = files.upload()  # Upload your MP3 or WAV file\n",
        "\n",
        "import os\n",
        "filename = list(uploaded.keys())[0]\n",
        "print(f\"Uploaded file: {filename}\")\n",
        "\n",
        "import nest_asyncio\n",
        "nest_asyncio.apply()\n",
        "\n",
        "import asyncio\n",
        "from shazamio import Shazam\n",
        "\n",
        "async def identify_song(file_path):\n",
        "    shazam = Shazam()\n",
        "    with open(file_path, \"rb\") as f:\n",
        "         song_bytes = f.read()\n",
        "    result = await shazam.recognize_song(song_bytes)\n",
        "    return result\n",
        "\n",
        "# Instead of asyncio.run(), use top-level await\n",
        "result = await identify_song(filename)\n",
        "print(\"Song Identification Result:\")\n",
        "print(result)\n"
      ]
    },
    {
      "cell_type": "code",
      "source": [
        "# Assuming 'result' is the dictionary returned from Shazam (the output you provided)\n",
        "track_info = result.get('track', {})\n",
        "\n",
        "song_title = track_info.get('title')\n",
        "artist = track_info.get('subtitle')\n",
        "genre = track_info.get('genres', {}).get('primary')\n",
        "cover_art = track_info.get('images', {}).get('coverart')\n",
        "shazam_url = track_info.get('url')\n",
        "\n",
        "print(\"Copy this:\")\n",
        "print(\"song_title = '\" + song_title + \"'\")\n",
        "print(\"artist = '\" + artist + \"'\")"
      ],
      "metadata": {
        "colab": {
          "base_uri": "https://localhost:8080/"
        },
        "id": "fim7frTOHNJ0",
        "outputId": "8ad1a018-38a4-46b8-c159-37f7c0c9b8c3"
      },
      "execution_count": null,
      "outputs": [
        {
          "output_type": "stream",
          "name": "stdout",
          "text": [
            "Copy this:\n",
            "song_title = 'Demons'\n",
            "artist = 'Imagine Dragons'\n"
          ]
        }
      ]
    }
  ]
}